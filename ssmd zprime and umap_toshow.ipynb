{
 "cells": [
  {
   "cell_type": "code",
   "execution_count": null,
   "metadata": {},
   "outputs": [],
   "source": [
    "import pandas as pd\n",
    "data=pd.read_feather('sample.feather')\n",
    "pd.options.display.max_columns = 700\n",
    "data"
   ]
  },
  {
   "cell_type": "code",
   "execution_count": 2,
   "metadata": {},
   "outputs": [],
   "source": [
    "import numpy as np\n",
    "df=data\n",
    "X = df.drop(['Treatment'],axis = 1)\n",
    "y = df.Treatment\n",
    "X.replace([np.inf, -np.inf], np.nan, inplace=True)\n",
    "X.dropna(inplace=True)\n",
    "#X.fillna(0,inplace=True)\n",
    "X_numerical = X.select_dtypes('number')\n",
    "X_useful=X_numerical.loc[:,X_numerical.iloc[1:5,].nunique() > 1]\n",
    "X_useful=X_useful.drop(['ObjectNumber','Number_Object_Number','Parent_PrefilterCellsed','Parent_Cells'],axis=1,errors='ignore')\n",
    "df_preprocessed=X_useful.join(y)"
   ]
  },
  {
   "cell_type": "code",
   "execution_count": 3,
   "metadata": {},
   "outputs": [],
   "source": [
    "df_NT=df_preprocessed.loc[df_preprocessed.Treatment=='a',df_preprocessed.columns!='Treatment']\n",
    "df_TNT=df_preprocessed.loc[df_preprocessed.Treatment=='b',df_preprocessed.columns!='Treatment']\n",
    "df_preprocessed.loc[len(df_preprocessed)]=np.abs(df_NT.mean() - df_TNT.mean()) / np.sqrt(np.square(df_NT.std())+np.square(df_TNT.std()))\n",
    "df_preprocessed.loc[len(df_preprocessed)]=1 - (3*(df_NT.std()+df_TNT.std())/np.abs(df_NT.mean() - df_TNT.mean()))"
   ]
  },
  {
   "cell_type": "code",
   "execution_count": null,
   "metadata": {},
   "outputs": [],
   "source": [
    "df_preprocessed"
   ]
  },
  {
   "cell_type": "code",
   "execution_count": null,
   "metadata": {},
   "outputs": [],
   "source": [
    "import pandas as pd\n",
    "import numpy as np\n",
    "df_ssmd=df_preprocessed.loc[len(df_preprocessed)-2:len(df_preprocessed)-1,df_preprocessed.columns!='Treatment']\n",
    "df_zprime=df_preprocessed.loc[len(df_preprocessed)-1:,df_preprocessed.columns!='Treatment']\n",
    "# Finding the column with the largest value\n",
    "max_column_index = np.argmax(df_ssmd.values)\n",
    "max_column = df_ssmd.columns[max_column_index % len(df_ssmd.columns)]\n",
    "print(f\"The column with the largest value is: {max_column}\")\n",
    "\n"
   ]
  },
  {
   "cell_type": "code",
   "execution_count": null,
   "metadata": {},
   "outputs": [],
   "source": [
    "import matplotlib.pyplot as plt\n",
    "import matplotlib.pylab as pylab\n",
    "params = {'legend.fontsize': 'xx-large',\n",
    "         'axes.labelsize': 'xx-large',\n",
    "         'axes.titlesize':'xx-large',\n",
    "         'xtick.labelsize':'xx-large',\n",
    "         'ytick.labelsize':'xx-large'}\n",
    "pylab.rcParams.update(params)\n",
    "plt.figure(figsize=(6,6))\n",
    "df_ssmd.sort_values(by=269140,axis=1,ascending=False).iloc[:1,:10].transpose().plot(kind='barh')\n",
    "plt.xlim(0.8,1)\n",
    "plt.legend(labels=['ssmd'])"
   ]
  },
  {
   "cell_type": "code",
   "execution_count": null,
   "metadata": {},
   "outputs": [],
   "source": [
    "plt.figure(figsize=(6,6))\n",
    "df_zprime.sort_values(by=269141,axis=1,ascending=False).iloc[:1,:10].transpose().plot(kind='barh')\n",
    "plt.legend(labels=['zprime'])\n"
   ]
  },
  {
   "cell_type": "code",
   "execution_count": null,
   "metadata": {},
   "outputs": [],
   "source": [
    "import numpy as np\n",
    "from sklearn.datasets import load_digits\n",
    "from sklearn.model_selection import train_test_split\n",
    "from sklearn.preprocessing import StandardScaler\n",
    "import matplotlib.pyplot as plt\n",
    "import seaborn as sns\n",
    "import pandas as pd\n",
    "%matplotlib inline\n",
    "import umap\n",
    "\n",
    "reducer = umap.UMAP()\n",
    "df_sample=df_preprocessed.groupby(\"Treatment\").sample(n=1000, random_state=1)\n",
    "df_UMAP = df_sample.loc[:,df_sample.columns!='Treatment']\n",
    "scaled_df_UMAP = StandardScaler().fit_transform(df_UMAP)\n",
    "embedding = reducer.fit_transform(scaled_df_UMAP)\n",
    "plt.scatter(\n",
    "    embedding[:, 0],\n",
    "    embedding[:, 1],\n",
    "    c=[sns.color_palette()[x] for x in df_sample.Treatment.map({\"NT\":0, \"TNT\":1, \"TGFB1\":2,\"TNF-alpha\":3})])\n",
    "plt.gca().set_aspect('equal', 'datalim')\n",
    "plt.title('UMAP projection of the dataset')"
   ]
  },
  {
   "cell_type": "code",
   "execution_count": 18,
   "metadata": {},
   "outputs": [
    {
     "name": "stdout",
     "output_type": "stream",
     "text": [
      "Collecting umap-learn\n",
      "  Downloading umap_learn-0.5.6-py3-none-any.whl.metadata (21 kB)\n",
      "Requirement already satisfied: numpy>=1.17 in /home/xiatian2/.conda/envs/first_model/lib/python3.10/site-packages (from umap-learn) (1.26.3)\n",
      "Requirement already satisfied: scipy>=1.3.1 in /home/xiatian2/.conda/envs/first_model/lib/python3.10/site-packages (from umap-learn) (1.11.4)\n",
      "Requirement already satisfied: scikit-learn>=0.22 in /home/xiatian2/.conda/envs/first_model/lib/python3.10/site-packages (from umap-learn) (1.3.2)\n",
      "Requirement already satisfied: numba>=0.51.2 in /home/xiatian2/.conda/envs/first_model/lib/python3.10/site-packages (from umap-learn) (0.58.1)\n",
      "Collecting pynndescent>=0.5 (from umap-learn)\n",
      "  Downloading pynndescent-0.5.12-py3-none-any.whl.metadata (6.8 kB)\n",
      "Requirement already satisfied: tqdm in /home/xiatian2/.conda/envs/first_model/lib/python3.10/site-packages (from umap-learn) (4.66.1)\n",
      "Requirement already satisfied: llvmlite<0.42,>=0.41.0dev0 in /home/xiatian2/.conda/envs/first_model/lib/python3.10/site-packages (from numba>=0.51.2->umap-learn) (0.41.1)\n",
      "Requirement already satisfied: joblib>=0.11 in /home/xiatian2/.conda/envs/first_model/lib/python3.10/site-packages (from pynndescent>=0.5->umap-learn) (1.3.2)\n",
      "Requirement already satisfied: threadpoolctl>=2.0.0 in /home/xiatian2/.conda/envs/first_model/lib/python3.10/site-packages (from scikit-learn>=0.22->umap-learn) (3.2.0)\n",
      "Downloading umap_learn-0.5.6-py3-none-any.whl (85 kB)\n",
      "\u001b[2K   \u001b[90m━━━━━━━━━━━━━━━━━━━━━━━━━━━━━━━━━━━━━━━━\u001b[0m \u001b[32m85.7/85.7 kB\u001b[0m \u001b[31m1.7 MB/s\u001b[0m eta \u001b[36m0:00:00\u001b[0ma \u001b[36m0:00:01\u001b[0m\n",
      "\u001b[?25hDownloading pynndescent-0.5.12-py3-none-any.whl (56 kB)\n",
      "\u001b[2K   \u001b[90m━━━━━━━━━━━━━━━━━━━━━━━━━━━━━━━━━━━━━━━━\u001b[0m \u001b[32m56.8/56.8 kB\u001b[0m \u001b[31m2.7 MB/s\u001b[0m eta \u001b[36m0:00:00\u001b[0m\n",
      "\u001b[?25hInstalling collected packages: pynndescent, umap-learn\n",
      "Successfully installed pynndescent-0.5.12 umap-learn-0.5.6\n"
     ]
    }
   ],
   "source": [
    "!pip install umap-learn"
   ]
  }
 ],
 "metadata": {
  "interpreter": {
   "hash": "26dd17e8042f1f4b894c6c785d4ba3b303f7656ce0f2add45917e4c01b4dd47b"
  },
  "kernelspec": {
   "display_name": "Python 3.9.18 64-bit",
   "name": "python3"
  },
  "language_info": {
   "name": "python",
   "version": ""
  }
 },
 "nbformat": 4,
 "nbformat_minor": 2
}